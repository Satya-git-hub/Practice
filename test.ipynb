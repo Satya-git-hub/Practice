{
 "cells": [
  {
   "cell_type": "code",
   "execution_count": 2,
   "metadata": {},
   "outputs": [
    {
     "name": "stdout",
     "output_type": "stream",
     "text": [
      "Cloning into 'HMP_Dataset'...\n",
      "remote: Enumerating objects: 865, done.\u001b[K\n",
      "remote: Total 865 (delta 0), reused 0 (delta 0), pack-reused 865\u001b[K\n",
      "Receiving objects: 100% (865/865), 1010.96 KiB | 0 bytes/s, done.\n",
      "Checking out files: 100% (848/848), done.\n"
     ]
    }
   ],
   "source": [
    "!git clone http://github.com/wchill/HMP_Dataset.git"
   ]
  },
  {
   "cell_type": "code",
   "execution_count": 3,
   "metadata": {},
   "outputs": [
    {
     "name": "stdout",
     "output_type": "stream",
     "text": [
      "\u001b[0m\u001b[01;34mBrush_teeth\u001b[0m/     \u001b[01;34mDrink_glass\u001b[0m/  \u001b[01;34mLiedown_bed\u001b[0m/  \u001b[01;34mSitdown_chair\u001b[0m/  final.py\r\n",
      "\u001b[01;34mClimb_stairs\u001b[0m/    \u001b[01;34mEat_meat\u001b[0m/     MANUAL.txt    \u001b[01;34mStandup_chair\u001b[0m/  impdata.py\r\n",
      "\u001b[01;34mComb_hair\u001b[0m/       \u001b[01;34mEat_soup\u001b[0m/     \u001b[01;34mPour_water\u001b[0m/   \u001b[01;34mUse_telephone\u001b[0m/\r\n",
      "\u001b[01;34mDescend_stairs\u001b[0m/  \u001b[01;34mGetup_bed\u001b[0m/    README.txt    \u001b[01;34mWalk\u001b[0m/\r\n"
     ]
    }
   ],
   "source": [
    "ls HMP_Dataset"
   ]
  },
  {
   "cell_type": "code",
   "execution_count": 5,
   "metadata": {},
   "outputs": [
    {
     "name": "stdout",
     "output_type": "stream",
     "text": [
      "Accelerometer-2011-04-11-13-28-18-brush_teeth-f1.txt\r\n",
      "Accelerometer-2011-04-11-13-29-54-brush_teeth-f1.txt\r\n",
      "Accelerometer-2011-05-30-08-35-11-brush_teeth-f1.txt\r\n",
      "Accelerometer-2011-05-30-09-36-50-brush_teeth-f1.txt\r\n",
      "Accelerometer-2011-05-30-10-34-16-brush_teeth-m1.txt\r\n",
      "Accelerometer-2011-05-30-21-10-57-brush_teeth-f1.txt\r\n",
      "Accelerometer-2011-05-30-21-55-04-brush_teeth-m2.txt\r\n",
      "Accelerometer-2011-05-31-15-16-47-brush_teeth-f1.txt\r\n",
      "Accelerometer-2011-06-02-10-42-22-brush_teeth-f1.txt\r\n",
      "Accelerometer-2011-06-02-10-45-50-brush_teeth-f1.txt\r\n",
      "Accelerometer-2011-06-06-10-45-27-brush_teeth-f1.txt\r\n",
      "Accelerometer-2011-06-06-10-48-05-brush_teeth-f1.txt\r\n"
     ]
    }
   ],
   "source": [
    "\n",
    "ls HMP_Dataset/Brush_teeth"
   ]
  },
  {
   "cell_type": "code",
   "execution_count": 4,
   "metadata": {},
   "outputs": [],
   "source": [
    "import os \n",
    "files = os.listdir('HMP_Dataset')\n",
    "files = [s for s in files if '_' in s]\n",
    "#files"
   ]
  },
  {
   "cell_type": "code",
   "execution_count": 5,
   "metadata": {},
   "outputs": [],
   "source": [
    "from pyspark.sql.types import StructField, StructType, IntegerType\n",
    "schema = StructType(\n",
    "                    [\n",
    "                        StructField('x', IntegerType(), True),\n",
    "                        StructField('y', IntegerType(), True),\n",
    "                        StructField('z', IntegerType(), True)\n",
    "                    ]\n",
    "                    )"
   ]
  },
  {
   "cell_type": "code",
   "execution_count": 6,
   "metadata": {},
   "outputs": [
    {
     "name": "stdout",
     "output_type": "stream",
     "text": [
      "+---+---+---+-----------+--------------------+\n",
      "|  x|  y|  z|      class|              source|\n",
      "+---+---+---+-----------+--------------------+\n",
      "| 22| 49| 35|Brush_teeth|Accelerometer-201...|\n",
      "| 22| 49| 35|Brush_teeth|Accelerometer-201...|\n",
      "| 22| 52| 35|Brush_teeth|Accelerometer-201...|\n",
      "| 22| 52| 35|Brush_teeth|Accelerometer-201...|\n",
      "| 21| 52| 34|Brush_teeth|Accelerometer-201...|\n",
      "| 22| 51| 34|Brush_teeth|Accelerometer-201...|\n",
      "| 20| 50| 35|Brush_teeth|Accelerometer-201...|\n",
      "| 22| 52| 34|Brush_teeth|Accelerometer-201...|\n",
      "| 22| 50| 34|Brush_teeth|Accelerometer-201...|\n",
      "| 22| 51| 35|Brush_teeth|Accelerometer-201...|\n",
      "| 21| 51| 33|Brush_teeth|Accelerometer-201...|\n",
      "| 20| 50| 34|Brush_teeth|Accelerometer-201...|\n",
      "| 21| 49| 33|Brush_teeth|Accelerometer-201...|\n",
      "| 21| 49| 33|Brush_teeth|Accelerometer-201...|\n",
      "| 20| 51| 35|Brush_teeth|Accelerometer-201...|\n",
      "| 18| 49| 34|Brush_teeth|Accelerometer-201...|\n",
      "| 19| 48| 34|Brush_teeth|Accelerometer-201...|\n",
      "| 16| 53| 34|Brush_teeth|Accelerometer-201...|\n",
      "| 18| 52| 35|Brush_teeth|Accelerometer-201...|\n",
      "| 18| 51| 32|Brush_teeth|Accelerometer-201...|\n",
      "+---+---+---+-----------+--------------------+\n",
      "only showing top 20 rows\n",
      "\n"
     ]
    }
   ],
   "source": [
    "df = None\n",
    "from pyspark.sql.functions import lit\n",
    "for category in files:\n",
    "    data_files = os.listdir('HMP_Dataset/'+category)\n",
    "    for data_file in data_files:\n",
    "        #print(data_file)\n",
    "        temp_df = spark.read.option('header', 'false').option('delimiter', ' ').csv('HMP_Dataset/'+category+'/'+data_file, schema = schema)\n",
    "        temp_df = temp_df.withColumn('class', lit(category))\n",
    "        temp_df = temp_df.withColumn('source', lit(data_file))\n",
    "        \n",
    "        if df is None:\n",
    "            df = temp_df\n",
    "        else : \n",
    "            df = df.union(temp_df)\n",
    "        \n",
    "        \n",
    "df.show()"
   ]
  },
  {
   "cell_type": "code",
   "execution_count": 7,
   "metadata": {},
   "outputs": [
    {
     "name": "stdout",
     "output_type": "stream",
     "text": [
      "+---+---+---+-----------+--------------------+----------+\n",
      "|  x|  y|  z|      class|              source|classIndex|\n",
      "+---+---+---+-----------+--------------------+----------+\n",
      "| 22| 49| 35|Brush_teeth|Accelerometer-201...|       5.0|\n",
      "| 22| 49| 35|Brush_teeth|Accelerometer-201...|       5.0|\n",
      "| 22| 52| 35|Brush_teeth|Accelerometer-201...|       5.0|\n",
      "| 22| 52| 35|Brush_teeth|Accelerometer-201...|       5.0|\n",
      "| 21| 52| 34|Brush_teeth|Accelerometer-201...|       5.0|\n",
      "| 22| 51| 34|Brush_teeth|Accelerometer-201...|       5.0|\n",
      "| 20| 50| 35|Brush_teeth|Accelerometer-201...|       5.0|\n",
      "| 22| 52| 34|Brush_teeth|Accelerometer-201...|       5.0|\n",
      "| 22| 50| 34|Brush_teeth|Accelerometer-201...|       5.0|\n",
      "| 22| 51| 35|Brush_teeth|Accelerometer-201...|       5.0|\n",
      "| 21| 51| 33|Brush_teeth|Accelerometer-201...|       5.0|\n",
      "| 20| 50| 34|Brush_teeth|Accelerometer-201...|       5.0|\n",
      "| 21| 49| 33|Brush_teeth|Accelerometer-201...|       5.0|\n",
      "| 21| 49| 33|Brush_teeth|Accelerometer-201...|       5.0|\n",
      "| 20| 51| 35|Brush_teeth|Accelerometer-201...|       5.0|\n",
      "| 18| 49| 34|Brush_teeth|Accelerometer-201...|       5.0|\n",
      "| 19| 48| 34|Brush_teeth|Accelerometer-201...|       5.0|\n",
      "| 16| 53| 34|Brush_teeth|Accelerometer-201...|       5.0|\n",
      "| 18| 52| 35|Brush_teeth|Accelerometer-201...|       5.0|\n",
      "| 18| 51| 32|Brush_teeth|Accelerometer-201...|       5.0|\n",
      "+---+---+---+-----------+--------------------+----------+\n",
      "only showing top 20 rows\n",
      "\n"
     ]
    }
   ],
   "source": [
    "from pyspark.ml.feature import StringIndexer\n",
    "indexer = StringIndexer(inputCol='class', outputCol='classIndex')\n",
    "indexed = indexer.fit(df).transform(df)\n",
    "indexed.show()\n"
   ]
  },
  {
   "cell_type": "code",
   "execution_count": 10,
   "metadata": {},
   "outputs": [
    {
     "name": "stdout",
     "output_type": "stream",
     "text": [
      "+---+---+---+-----------+--------------------+----------+--------------+\n",
      "|  x|  y|  z|      class|              source|classIndex|   categoryVec|\n",
      "+---+---+---+-----------+--------------------+----------+--------------+\n",
      "| 22| 49| 35|Brush_teeth|Accelerometer-201...|       5.0|(12,[5],[1.0])|\n",
      "| 22| 49| 35|Brush_teeth|Accelerometer-201...|       5.0|(12,[5],[1.0])|\n",
      "| 22| 52| 35|Brush_teeth|Accelerometer-201...|       5.0|(12,[5],[1.0])|\n",
      "| 22| 52| 35|Brush_teeth|Accelerometer-201...|       5.0|(12,[5],[1.0])|\n",
      "| 21| 52| 34|Brush_teeth|Accelerometer-201...|       5.0|(12,[5],[1.0])|\n",
      "| 22| 51| 34|Brush_teeth|Accelerometer-201...|       5.0|(12,[5],[1.0])|\n",
      "| 20| 50| 35|Brush_teeth|Accelerometer-201...|       5.0|(12,[5],[1.0])|\n",
      "| 22| 52| 34|Brush_teeth|Accelerometer-201...|       5.0|(12,[5],[1.0])|\n",
      "| 22| 50| 34|Brush_teeth|Accelerometer-201...|       5.0|(12,[5],[1.0])|\n",
      "| 22| 51| 35|Brush_teeth|Accelerometer-201...|       5.0|(12,[5],[1.0])|\n",
      "| 21| 51| 33|Brush_teeth|Accelerometer-201...|       5.0|(12,[5],[1.0])|\n",
      "| 20| 50| 34|Brush_teeth|Accelerometer-201...|       5.0|(12,[5],[1.0])|\n",
      "| 21| 49| 33|Brush_teeth|Accelerometer-201...|       5.0|(12,[5],[1.0])|\n",
      "| 21| 49| 33|Brush_teeth|Accelerometer-201...|       5.0|(12,[5],[1.0])|\n",
      "| 20| 51| 35|Brush_teeth|Accelerometer-201...|       5.0|(12,[5],[1.0])|\n",
      "| 18| 49| 34|Brush_teeth|Accelerometer-201...|       5.0|(12,[5],[1.0])|\n",
      "| 19| 48| 34|Brush_teeth|Accelerometer-201...|       5.0|(12,[5],[1.0])|\n",
      "| 16| 53| 34|Brush_teeth|Accelerometer-201...|       5.0|(12,[5],[1.0])|\n",
      "| 18| 52| 35|Brush_teeth|Accelerometer-201...|       5.0|(12,[5],[1.0])|\n",
      "| 18| 51| 32|Brush_teeth|Accelerometer-201...|       5.0|(12,[5],[1.0])|\n",
      "+---+---+---+-----------+--------------------+----------+--------------+\n",
      "only showing top 20 rows\n",
      "\n"
     ]
    }
   ],
   "source": [
    "\n",
    "from pyspark.ml.feature import OneHotEncoder\n",
    "encoder = OneHotEncoder(inputCol='classIndex', outputCol='categoryVec')\n",
    "encoded = encoder.transform(indexed)\n",
    "encoded.show()"
   ]
  },
  {
   "cell_type": "code",
   "execution_count": 11,
   "metadata": {},
   "outputs": [
    {
     "name": "stdout",
     "output_type": "stream",
     "text": [
      "+---+---+---+-----------+--------------------+----------+--------------+----------------+\n",
      "|  x|  y|  z|      class|              source|classIndex|   categoryVec|        features|\n",
      "+---+---+---+-----------+--------------------+----------+--------------+----------------+\n",
      "| 22| 49| 35|Brush_teeth|Accelerometer-201...|       5.0|(12,[5],[1.0])|[22.0,49.0,35.0]|\n",
      "| 22| 49| 35|Brush_teeth|Accelerometer-201...|       5.0|(12,[5],[1.0])|[22.0,49.0,35.0]|\n",
      "| 22| 52| 35|Brush_teeth|Accelerometer-201...|       5.0|(12,[5],[1.0])|[22.0,52.0,35.0]|\n",
      "| 22| 52| 35|Brush_teeth|Accelerometer-201...|       5.0|(12,[5],[1.0])|[22.0,52.0,35.0]|\n",
      "| 21| 52| 34|Brush_teeth|Accelerometer-201...|       5.0|(12,[5],[1.0])|[21.0,52.0,34.0]|\n",
      "| 22| 51| 34|Brush_teeth|Accelerometer-201...|       5.0|(12,[5],[1.0])|[22.0,51.0,34.0]|\n",
      "| 20| 50| 35|Brush_teeth|Accelerometer-201...|       5.0|(12,[5],[1.0])|[20.0,50.0,35.0]|\n",
      "| 22| 52| 34|Brush_teeth|Accelerometer-201...|       5.0|(12,[5],[1.0])|[22.0,52.0,34.0]|\n",
      "| 22| 50| 34|Brush_teeth|Accelerometer-201...|       5.0|(12,[5],[1.0])|[22.0,50.0,34.0]|\n",
      "| 22| 51| 35|Brush_teeth|Accelerometer-201...|       5.0|(12,[5],[1.0])|[22.0,51.0,35.0]|\n",
      "| 21| 51| 33|Brush_teeth|Accelerometer-201...|       5.0|(12,[5],[1.0])|[21.0,51.0,33.0]|\n",
      "| 20| 50| 34|Brush_teeth|Accelerometer-201...|       5.0|(12,[5],[1.0])|[20.0,50.0,34.0]|\n",
      "| 21| 49| 33|Brush_teeth|Accelerometer-201...|       5.0|(12,[5],[1.0])|[21.0,49.0,33.0]|\n",
      "| 21| 49| 33|Brush_teeth|Accelerometer-201...|       5.0|(12,[5],[1.0])|[21.0,49.0,33.0]|\n",
      "| 20| 51| 35|Brush_teeth|Accelerometer-201...|       5.0|(12,[5],[1.0])|[20.0,51.0,35.0]|\n",
      "| 18| 49| 34|Brush_teeth|Accelerometer-201...|       5.0|(12,[5],[1.0])|[18.0,49.0,34.0]|\n",
      "| 19| 48| 34|Brush_teeth|Accelerometer-201...|       5.0|(12,[5],[1.0])|[19.0,48.0,34.0]|\n",
      "| 16| 53| 34|Brush_teeth|Accelerometer-201...|       5.0|(12,[5],[1.0])|[16.0,53.0,34.0]|\n",
      "| 18| 52| 35|Brush_teeth|Accelerometer-201...|       5.0|(12,[5],[1.0])|[18.0,52.0,35.0]|\n",
      "| 18| 51| 32|Brush_teeth|Accelerometer-201...|       5.0|(12,[5],[1.0])|[18.0,51.0,32.0]|\n",
      "+---+---+---+-----------+--------------------+----------+--------------+----------------+\n",
      "only showing top 20 rows\n",
      "\n"
     ]
    }
   ],
   "source": [
    "from pyspark.ml.linalg import Vectors\n",
    "from pyspark.ml.feature import VectorAssembler \n",
    "vectorassembler = VectorAssembler(\n",
    "\t\t\t\t\t\t\tinputCols = ['x','y', 'z'],\n",
    "\t\t\t\t\t\t\toutputCol = 'features'\n",
    "\t\t\t\t\t\t\t)\n",
    "features_vectorized = vectorassembler.transform(encoded)\n",
    "features_vectorized.show()\n"
   ]
  },
  {
   "cell_type": "code",
   "execution_count": 12,
   "metadata": {},
   "outputs": [
    {
     "name": "stdout",
     "output_type": "stream",
     "text": [
      "+---+---+---+-----------+--------------------+----------+--------------+----------------+--------------------+\n",
      "|  x|  y|  z|      class|              source|classIndex|   categoryVec|        features|       features_norm|\n",
      "+---+---+---+-----------+--------------------+----------+--------------+----------------+--------------------+\n",
      "| 22| 49| 35|Brush_teeth|Accelerometer-201...|       5.0|(12,[5],[1.0])|[22.0,49.0,35.0]|[0.20754716981132...|\n",
      "| 22| 49| 35|Brush_teeth|Accelerometer-201...|       5.0|(12,[5],[1.0])|[22.0,49.0,35.0]|[0.20754716981132...|\n",
      "| 22| 52| 35|Brush_teeth|Accelerometer-201...|       5.0|(12,[5],[1.0])|[22.0,52.0,35.0]|[0.20183486238532...|\n",
      "| 22| 52| 35|Brush_teeth|Accelerometer-201...|       5.0|(12,[5],[1.0])|[22.0,52.0,35.0]|[0.20183486238532...|\n",
      "| 21| 52| 34|Brush_teeth|Accelerometer-201...|       5.0|(12,[5],[1.0])|[21.0,52.0,34.0]|[0.19626168224299...|\n",
      "| 22| 51| 34|Brush_teeth|Accelerometer-201...|       5.0|(12,[5],[1.0])|[22.0,51.0,34.0]|[0.20560747663551...|\n",
      "| 20| 50| 35|Brush_teeth|Accelerometer-201...|       5.0|(12,[5],[1.0])|[20.0,50.0,35.0]|[0.19047619047619...|\n",
      "| 22| 52| 34|Brush_teeth|Accelerometer-201...|       5.0|(12,[5],[1.0])|[22.0,52.0,34.0]|[0.20370370370370...|\n",
      "| 22| 50| 34|Brush_teeth|Accelerometer-201...|       5.0|(12,[5],[1.0])|[22.0,50.0,34.0]|[0.20754716981132...|\n",
      "| 22| 51| 35|Brush_teeth|Accelerometer-201...|       5.0|(12,[5],[1.0])|[22.0,51.0,35.0]|[0.20370370370370...|\n",
      "| 21| 51| 33|Brush_teeth|Accelerometer-201...|       5.0|(12,[5],[1.0])|[21.0,51.0,33.0]|[0.2,0.4857142857...|\n",
      "| 20| 50| 34|Brush_teeth|Accelerometer-201...|       5.0|(12,[5],[1.0])|[20.0,50.0,34.0]|[0.19230769230769...|\n",
      "| 21| 49| 33|Brush_teeth|Accelerometer-201...|       5.0|(12,[5],[1.0])|[21.0,49.0,33.0]|[0.20388349514563...|\n",
      "| 21| 49| 33|Brush_teeth|Accelerometer-201...|       5.0|(12,[5],[1.0])|[21.0,49.0,33.0]|[0.20388349514563...|\n",
      "| 20| 51| 35|Brush_teeth|Accelerometer-201...|       5.0|(12,[5],[1.0])|[20.0,51.0,35.0]|[0.18867924528301...|\n",
      "| 18| 49| 34|Brush_teeth|Accelerometer-201...|       5.0|(12,[5],[1.0])|[18.0,49.0,34.0]|[0.17821782178217...|\n",
      "| 19| 48| 34|Brush_teeth|Accelerometer-201...|       5.0|(12,[5],[1.0])|[19.0,48.0,34.0]|[0.18811881188118...|\n",
      "| 16| 53| 34|Brush_teeth|Accelerometer-201...|       5.0|(12,[5],[1.0])|[16.0,53.0,34.0]|[0.15533980582524...|\n",
      "| 18| 52| 35|Brush_teeth|Accelerometer-201...|       5.0|(12,[5],[1.0])|[18.0,52.0,35.0]|[0.17142857142857...|\n",
      "| 18| 51| 32|Brush_teeth|Accelerometer-201...|       5.0|(12,[5],[1.0])|[18.0,51.0,32.0]|[0.17821782178217...|\n",
      "+---+---+---+-----------+--------------------+----------+--------------+----------------+--------------------+\n",
      "only showing top 20 rows\n",
      "\n"
     ]
    }
   ],
   "source": [
    "from pyspark.ml.feature import Normalizer\n",
    "normalizer = Normalizer(inputCol = 'features', outputCol='features_norm', p=1.0)\n",
    "normalized_data = normalizer.transform(features_vectorized)\n",
    "normalized_data.show()\n",
    "\n"
   ]
  },
  {
   "cell_type": "code",
   "execution_count": 17,
   "metadata": {},
   "outputs": [
    {
     "name": "stdout",
     "output_type": "stream",
     "text": [
      "+---+---+---+-----------+--------------------+----------+--------------+----------------+--------------------+\n",
      "|  x|  y|  z|      class|              source|classIndex|   categoryVec|        features|       features_norm|\n",
      "+---+---+---+-----------+--------------------+----------+--------------+----------------+--------------------+\n",
      "| 22| 49| 35|Brush_teeth|Accelerometer-201...|       5.0|(12,[5],[1.0])|[22.0,49.0,35.0]|[0.20754716981132...|\n",
      "| 22| 49| 35|Brush_teeth|Accelerometer-201...|       5.0|(12,[5],[1.0])|[22.0,49.0,35.0]|[0.20754716981132...|\n",
      "| 22| 52| 35|Brush_teeth|Accelerometer-201...|       5.0|(12,[5],[1.0])|[22.0,52.0,35.0]|[0.20183486238532...|\n",
      "| 22| 52| 35|Brush_teeth|Accelerometer-201...|       5.0|(12,[5],[1.0])|[22.0,52.0,35.0]|[0.20183486238532...|\n",
      "| 21| 52| 34|Brush_teeth|Accelerometer-201...|       5.0|(12,[5],[1.0])|[21.0,52.0,34.0]|[0.19626168224299...|\n",
      "| 22| 51| 34|Brush_teeth|Accelerometer-201...|       5.0|(12,[5],[1.0])|[22.0,51.0,34.0]|[0.20560747663551...|\n",
      "| 20| 50| 35|Brush_teeth|Accelerometer-201...|       5.0|(12,[5],[1.0])|[20.0,50.0,35.0]|[0.19047619047619...|\n",
      "| 22| 52| 34|Brush_teeth|Accelerometer-201...|       5.0|(12,[5],[1.0])|[22.0,52.0,34.0]|[0.20370370370370...|\n",
      "| 22| 50| 34|Brush_teeth|Accelerometer-201...|       5.0|(12,[5],[1.0])|[22.0,50.0,34.0]|[0.20754716981132...|\n",
      "| 22| 51| 35|Brush_teeth|Accelerometer-201...|       5.0|(12,[5],[1.0])|[22.0,51.0,35.0]|[0.20370370370370...|\n",
      "| 21| 51| 33|Brush_teeth|Accelerometer-201...|       5.0|(12,[5],[1.0])|[21.0,51.0,33.0]|[0.2,0.4857142857...|\n",
      "| 20| 50| 34|Brush_teeth|Accelerometer-201...|       5.0|(12,[5],[1.0])|[20.0,50.0,34.0]|[0.19230769230769...|\n",
      "| 21| 49| 33|Brush_teeth|Accelerometer-201...|       5.0|(12,[5],[1.0])|[21.0,49.0,33.0]|[0.20388349514563...|\n",
      "| 21| 49| 33|Brush_teeth|Accelerometer-201...|       5.0|(12,[5],[1.0])|[21.0,49.0,33.0]|[0.20388349514563...|\n",
      "| 20| 51| 35|Brush_teeth|Accelerometer-201...|       5.0|(12,[5],[1.0])|[20.0,51.0,35.0]|[0.18867924528301...|\n",
      "| 18| 49| 34|Brush_teeth|Accelerometer-201...|       5.0|(12,[5],[1.0])|[18.0,49.0,34.0]|[0.17821782178217...|\n",
      "| 19| 48| 34|Brush_teeth|Accelerometer-201...|       5.0|(12,[5],[1.0])|[19.0,48.0,34.0]|[0.18811881188118...|\n",
      "| 16| 53| 34|Brush_teeth|Accelerometer-201...|       5.0|(12,[5],[1.0])|[16.0,53.0,34.0]|[0.15533980582524...|\n",
      "| 18| 52| 35|Brush_teeth|Accelerometer-201...|       5.0|(12,[5],[1.0])|[18.0,52.0,35.0]|[0.17142857142857...|\n",
      "| 18| 51| 32|Brush_teeth|Accelerometer-201...|       5.0|(12,[5],[1.0])|[18.0,51.0,32.0]|[0.17821782178217...|\n",
      "+---+---+---+-----------+--------------------+----------+--------------+----------------+--------------------+\n",
      "only showing top 20 rows\n",
      "\n"
     ]
    }
   ],
   "source": [
    "from pyspark.ml import Pipeline\n",
    "pipeline = Pipeline(stages = [\n",
    "\t\t\t\t\tindexer, encoder, vectorassembler, normalizer\n",
    "\t\t\t\t\t])\n",
    "\t\t\t\t\t\n",
    "\t\t\t\t\t\n",
    "model = pipeline.fit(df)\t\t\t\t\t\n",
    "prediction = model.transform(df)\n",
    "prediction.show()\n"
   ]
  },
  {
   "cell_type": "code",
   "execution_count": 23,
   "metadata": {},
   "outputs": [
    {
     "name": "stdout",
     "output_type": "stream",
     "text": [
      "+----------+--------------+--------------------+\n",
      "|classIndex|   categoryVec|       features_norm|\n",
      "+----------+--------------+--------------------+\n",
      "|       5.0|(12,[5],[1.0])|[0.20754716981132...|\n",
      "|       5.0|(12,[5],[1.0])|[0.20754716981132...|\n",
      "|       5.0|(12,[5],[1.0])|[0.20183486238532...|\n",
      "|       5.0|(12,[5],[1.0])|[0.20183486238532...|\n",
      "|       5.0|(12,[5],[1.0])|[0.19626168224299...|\n",
      "|       5.0|(12,[5],[1.0])|[0.20560747663551...|\n",
      "|       5.0|(12,[5],[1.0])|[0.19047619047619...|\n",
      "|       5.0|(12,[5],[1.0])|[0.20370370370370...|\n",
      "|       5.0|(12,[5],[1.0])|[0.20754716981132...|\n",
      "|       5.0|(12,[5],[1.0])|[0.20370370370370...|\n",
      "|       5.0|(12,[5],[1.0])|[0.2,0.4857142857...|\n",
      "|       5.0|(12,[5],[1.0])|[0.19230769230769...|\n",
      "|       5.0|(12,[5],[1.0])|[0.20388349514563...|\n",
      "|       5.0|(12,[5],[1.0])|[0.20388349514563...|\n",
      "|       5.0|(12,[5],[1.0])|[0.18867924528301...|\n",
      "|       5.0|(12,[5],[1.0])|[0.17821782178217...|\n",
      "|       5.0|(12,[5],[1.0])|[0.18811881188118...|\n",
      "|       5.0|(12,[5],[1.0])|[0.15533980582524...|\n",
      "|       5.0|(12,[5],[1.0])|[0.17142857142857...|\n",
      "|       5.0|(12,[5],[1.0])|[0.17821782178217...|\n",
      "+----------+--------------+--------------------+\n",
      "only showing top 20 rows\n",
      "\n"
     ]
    }
   ],
   "source": [
    "df_train = prediction.drop('x').drop('y').drop('z').drop('class').drop('source').drop('features')\n",
    "\n",
    "df_train.show()"
   ]
  }
 ],
 "metadata": {
  "kernelspec": {
   "display_name": "Python 3.6 with Spark",
   "language": "python3",
   "name": "python36"
  },
  "language_info": {
   "codemirror_mode": {
    "name": "ipython",
    "version": 3
   },
   "file_extension": ".py",
   "mimetype": "text/x-python",
   "name": "python",
   "nbconvert_exporter": "python",
   "pygments_lexer": "ipython3",
   "version": "3.6.8"
  }
 },
 "nbformat": 4,
 "nbformat_minor": 1
}
